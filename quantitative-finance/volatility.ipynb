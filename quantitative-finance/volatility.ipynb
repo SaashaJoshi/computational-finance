{
 "cells": [
  {
   "cell_type": "code",
   "execution_count": 1,
   "id": "cardiovascular-minutes",
   "metadata": {},
   "outputs": [],
   "source": [
    "import numpy as np"
   ]
  },
  {
   "cell_type": "code",
   "execution_count": 4,
   "id": "minimal-donna",
   "metadata": {},
   "outputs": [],
   "source": [
    "'''\n",
    "IRA valued at $100,000 in S&P500\n",
    "'''\n",
    "\n",
    "principal_value = 100000\n",
    "expected_return = 0.065    # rate\n",
    "time = 25    # years"
   ]
  },
  {
   "cell_type": "code",
   "execution_count": 5,
   "id": "needed-alpha",
   "metadata": {},
   "outputs": [
    {
     "name": "stdout",
     "output_type": "stream",
     "text": [
      "Year    Value     \n",
      "---------------\n",
      "   0    100,000\n",
      "   1    106,500\n",
      "   2    113,422\n",
      "   3    120,795\n",
      "   4    128,647\n",
      "   5    137,009\n",
      "   6    145,914\n",
      "   7    155,399\n",
      "   8    165,500\n",
      "   9    176,257\n",
      "  10    187,714\n",
      "  11    199,915\n",
      "  12    212,910\n",
      "  13    226,749\n",
      "  14    241,487\n",
      "  15    257,184\n",
      "  16    273,901\n",
      "  17    291,705\n",
      "  18    310,665\n",
      "  19    330,859\n",
      "  20    352,365\n",
      "  21    375,268\n",
      "  22    399,661\n",
      "  23    425,639\n",
      "  24    453,305\n",
      "  25    482,770\n"
     ]
    }
   ],
   "source": [
    "# Deterministic (BASIC)\n",
    "print('{:7s} {:<10s}'.format('Year', 'Value'))\n",
    "print('-'*15)\n",
    "print('{:4d} {:10,.0f}'.format(0, principal_value))\n",
    "\n",
    "for year in range(1, 1 + time):\n",
    "    principal_value = principal_value * (1 + expected_return)\n",
    "    print('{:4d} {:10,.0f}'.format(year, principal_value))"
   ]
  },
  {
   "cell_type": "code",
   "execution_count": 25,
   "id": "forward-pantyhose",
   "metadata": {},
   "outputs": [],
   "source": [
    "# Volatility\n",
    "\n",
    "principal_value = 100000\n",
    "expected_return = 0.065    # rate\n",
    "time = 25    # years\n",
    "volatility = 0.2"
   ]
  },
  {
   "cell_type": "code",
   "execution_count": 26,
   "id": "laughing-monaco",
   "metadata": {},
   "outputs": [
    {
     "name": "stdout",
     "output_type": "stream",
     "text": [
      "Year    Value     \n",
      "---------------\n",
      "   0    100,000\n",
      "   1     71,505\n",
      "   2     81,053\n",
      "   3    105,013\n",
      "   4    106,537\n",
      "   5    134,371\n",
      "   6    156,925\n",
      "   7    174,067\n",
      "   8    148,129\n",
      "   9    152,144\n",
      "  10    169,792\n",
      "  11    165,275\n",
      "  12    190,402\n",
      "  13    180,555\n",
      "  14    221,788\n",
      "  15    266,044\n",
      "  16    277,782\n",
      "  17    266,321\n",
      "  18    338,480\n",
      "  19    330,821\n",
      "  20    278,332\n",
      "  21    386,547\n",
      "  22    530,853\n",
      "  23    538,616\n",
      "  24    482,876\n",
      "  25    532,083\n"
     ]
    }
   ],
   "source": [
    "print('{:7s} {:<10s}'.format('Year', 'Value'))\n",
    "print('-'*15)\n",
    "print('{:4d} {:10,.0f}'.format(0, principal_value))\n",
    "\n",
    "np.random.seed(100)\n",
    "for year in range(1, 1 + time):\n",
    "    volatile_return = np.random.normal(expected_return, volatility)\n",
    "    # print(expected_return)\n",
    "    principal_value = principal_value * (1 + volatile_return)\n",
    "    print('{:4d} {:10,.0f}'.format(year, principal_value))"
   ]
  },
  {
   "cell_type": "code",
   "execution_count": null,
   "id": "formal-characteristic",
   "metadata": {},
   "outputs": [],
   "source": []
  }
 ],
 "metadata": {
  "kernelspec": {
   "display_name": "Python 3",
   "language": "python",
   "name": "python3"
  },
  "language_info": {
   "codemirror_mode": {
    "name": "ipython",
    "version": 3
   },
   "file_extension": ".py",
   "mimetype": "text/x-python",
   "name": "python",
   "nbconvert_exporter": "python",
   "pygments_lexer": "ipython3",
   "version": "3.9.1"
  }
 },
 "nbformat": 4,
 "nbformat_minor": 5
}
